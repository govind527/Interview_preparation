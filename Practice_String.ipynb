{
  "nbformat": 4,
  "nbformat_minor": 0,
  "metadata": {
    "colab": {
      "provenance": [],
      "authorship_tag": "ABX9TyOdOqIX2csDO3n/yE/h2zPa",
      "include_colab_link": true
    },
    "kernelspec": {
      "name": "python3",
      "display_name": "Python 3"
    },
    "language_info": {
      "name": "python"
    }
  },
  "cells": [
    {
      "cell_type": "markdown",
      "metadata": {
        "id": "view-in-github",
        "colab_type": "text"
      },
      "source": [
        "<a href=\"https://colab.research.google.com/github/govind527/Interview_preparation/blob/main/Practice_String.ipynb\" target=\"_parent\"><img src=\"https://colab.research.google.com/assets/colab-badge.svg\" alt=\"Open In Colab\"/></a>"
      ]
    },
    {
      "cell_type": "code",
      "execution_count": 1,
      "metadata": {
        "id": "uICyc6YCYPlz"
      },
      "outputs": [],
      "source": [
        "import torch"
      ]
    },
    {
      "cell_type": "code",
      "source": [
        "s=  'my name is govind'"
      ],
      "metadata": {
        "id": "WbvBlIr8cuj5"
      },
      "execution_count": 24,
      "outputs": []
    },
    {
      "cell_type": "code",
      "source": [
        "print (s[::-1])\n"
      ],
      "metadata": {
        "colab": {
          "base_uri": "https://localhost:8080/"
        },
        "id": "ApHJJQDR1HJ2",
        "outputId": "24a16d2d-9e54-4866-c2f2-4925965efe55"
      },
      "execution_count": 26,
      "outputs": [
        {
          "output_type": "stream",
          "name": "stdout",
          "text": [
            "dnivog si eman ym\n"
          ]
        }
      ]
    },
    {
      "cell_type": "code",
      "source": [],
      "metadata": {
        "id": "AeilH1oe_AJQ"
      },
      "execution_count": null,
      "outputs": []
    },
    {
      "cell_type": "code",
      "source": [
        "listss=[]\n",
        "for i in s.split():\n",
        "  t=[]\n",
        "  for j in list(i):\n",
        "     t.insert(0,j)\n",
        "  listss.append(''.join(t))\n",
        "cc=' '.join(listss)"
      ],
      "metadata": {
        "id": "tueA0qIA1KRw"
      },
      "execution_count": 34,
      "outputs": []
    },
    {
      "cell_type": "code",
      "source": [
        "cc"
      ],
      "metadata": {
        "colab": {
          "base_uri": "https://localhost:8080/",
          "height": 36
        },
        "id": "fkPpUZS31W5B",
        "outputId": "f55d54a1-22b2-4886-822e-2bc8d6e85f08"
      },
      "execution_count": 35,
      "outputs": [
        {
          "output_type": "execute_result",
          "data": {
            "text/plain": [
              "'ym eman si dnivog'"
            ],
            "application/vnd.google.colaboratory.intrinsic+json": {
              "type": "string"
            }
          },
          "metadata": {},
          "execution_count": 35
        }
      ]
    },
    {
      "cell_type": "code",
      "source": [
        "def functiod(s):\n",
        "\n",
        "  return ' '.join([word[::-1] for  word in s.split()])\n"
      ],
      "metadata": {
        "id": "m382bSVb_sMD"
      },
      "execution_count": 40,
      "outputs": []
    },
    {
      "cell_type": "code",
      "source": [
        "functiod('my name is shakitman')"
      ],
      "metadata": {
        "colab": {
          "base_uri": "https://localhost:8080/",
          "height": 36
        },
        "id": "ifbNXdQrEljS",
        "outputId": "40360e7d-6f1c-45be-848b-c0c5e7bb9dbe"
      },
      "execution_count": 42,
      "outputs": [
        {
          "output_type": "execute_result",
          "data": {
            "text/plain": [
              "'ym eman si namtikahs'"
            ],
            "application/vnd.google.colaboratory.intrinsic+json": {
              "type": "string"
            }
          },
          "metadata": {},
          "execution_count": 42
        }
      ]
    },
    {
      "cell_type": "code",
      "source": [
        "leng=len(s)\n",
        "i=0\n",
        "lst=[]\n",
        "while i<leng:\n",
        "  lst.append(s[i])\n",
        "\n",
        "  i+=1\n",
        "\n",
        "type(lst\n",
        "     )"
      ],
      "metadata": {
        "colab": {
          "base_uri": "https://localhost:8080/"
        },
        "id": "8Lhpk9-oFGNq",
        "outputId": "a25fc3a8-924d-40f0-af0b-5c234c2a7253"
      },
      "execution_count": 53,
      "outputs": [
        {
          "output_type": "execute_result",
          "data": {
            "text/plain": [
              "list"
            ]
          },
          "metadata": {},
          "execution_count": 53
        }
      ]
    },
    {
      "cell_type": "code",
      "source": [
        "f_blank=[]\n",
        "leng=len(s)\n",
        "i=0\n",
        "lst=[]\n",
        "while i<leng:\n",
        "  if i==' ':\n",
        "    break\n",
        "  lst.append(s[i])\n",
        "  i+=1\n",
        "\n",
        "lst"
      ],
      "metadata": {
        "id": "nf0P1VHpF3Qn"
      },
      "execution_count": null,
      "outputs": []
    },
    {
      "cell_type": "code",
      "source": [
        "leng=len(s.split())\n",
        "i=0\n",
        "lst=[]\n",
        "while i<leng:\n",
        "    text=s.split()[i]\n",
        "    l_blank=[]\n",
        "    y=len(text)\n",
        "    j=0\n",
        "    while j<y:\n",
        "        l_blank.insert(0,text[j])\n",
        "        j+=1\n",
        "    lst.append(''.join(l_blank))\n",
        "    i+=1\n",
        "final_text=' '.join(lst)\n",
        "print(final_text)"
      ],
      "metadata": {
        "colab": {
          "base_uri": "https://localhost:8080/"
        },
        "id": "aOolEshSK-ZK",
        "outputId": "9388b178-aecd-4240-ab24-4e604d2174e1"
      },
      "execution_count": 55,
      "outputs": [
        {
          "output_type": "stream",
          "name": "stdout",
          "text": [
            "ym eman si dnivog\n"
          ]
        }
      ]
    },
    {
      "cell_type": "code",
      "source": [
        "le='Learning Python Is Very Easy'"
      ],
      "metadata": {
        "id": "-yUDipqTLDp-"
      },
      "execution_count": 56,
      "outputs": []
    },
    {
      "cell_type": "code",
      "source": [
        "lst=[]\n",
        "for i in le.split():\n",
        "  lst.insert(0,i)\n",
        "' '.join(lst)\n"
      ],
      "metadata": {
        "colab": {
          "base_uri": "https://localhost:8080/",
          "height": 36
        },
        "id": "QasoZLxWM2n7",
        "outputId": "b67a2a5d-f9af-4df7-8429-412af29f1be1"
      },
      "execution_count": 57,
      "outputs": [
        {
          "output_type": "execute_result",
          "data": {
            "text/plain": [
              "'Easy Very Is Python Learning'"
            ],
            "application/vnd.google.colaboratory.intrinsic+json": {
              "type": "string"
            }
          },
          "metadata": {},
          "execution_count": 57
        }
      ]
    },
    {
      "cell_type": "code",
      "source": [
        "nuu='one two three four five six'\n"
      ],
      "metadata": {
        "id": "kNU7jHEUNFy4"
      },
      "execution_count": 58,
      "outputs": []
    },
    {
      "cell_type": "code",
      "source": [
        "lsst=[]"
      ],
      "metadata": {
        "id": "NNjTDdDFNjo_"
      },
      "execution_count": 59,
      "outputs": []
    },
    {
      "cell_type": "code",
      "source": [
        "listss=[]\n",
        "cnt=0\n",
        "for i in nuu.split():\n",
        "  if cnt%2 == 1:\n",
        "    t=[]\n",
        "    for j in list(i):\n",
        "      t.insert(0,j)\n",
        "    listss.append(''.join(t))\n",
        "  else:\n",
        "    listss.append(i)\n",
        "  cnt+=1\n",
        "\n",
        "' '.join(listss)"
      ],
      "metadata": {
        "colab": {
          "base_uri": "https://localhost:8080/",
          "height": 36
        },
        "id": "jplMVPiWNk6M",
        "outputId": "1f20fc55-e16c-4976-9a88-b0a39ec9e531"
      },
      "execution_count": 68,
      "outputs": [
        {
          "output_type": "execute_result",
          "data": {
            "text/plain": [
              "'one owt three ruof five xis'"
            ],
            "application/vnd.google.colaboratory.intrinsic+json": {
              "type": "string"
            }
          },
          "metadata": {},
          "execution_count": 68
        }
      ]
    },
    {
      "cell_type": "code",
      "source": [
        "listss=[]\n",
        "for i in s.split():\n",
        "  t=[]\n",
        "  for j in list(i):\n",
        "     t.insert(0,j)\n",
        "  listss.append(''.join(t))\n",
        "cc=' '.join(listss)"
      ],
      "metadata": {
        "id": "HgVMcgBeNwzI"
      },
      "execution_count": null,
      "outputs": []
    },
    {
      "cell_type": "code",
      "source": [
        "s1='RAVI'\n",
        "s2='TEJA'"
      ],
      "metadata": {
        "id": "RTOi1uOyTARr"
      },
      "execution_count": 76,
      "outputs": []
    },
    {
      "cell_type": "code",
      "source": [
        "a='madam'"
      ],
      "metadata": {
        "id": "a26EF4X6TBGF"
      },
      "execution_count": 2,
      "outputs": []
    },
    {
      "cell_type": "code",
      "source": [
        "r=reversed(a.strip())\n",
        "u=''.join(r)\n",
        "a==u\n",
        "u"
      ],
      "metadata": {
        "colab": {
          "base_uri": "https://localhost:8080/",
          "height": 36
        },
        "id": "euMwBRodTc4Y",
        "outputId": "3c3c6104-0b6d-4b39-e7e6-f8408232bd08"
      },
      "execution_count": 3,
      "outputs": [
        {
          "output_type": "execute_result",
          "data": {
            "text/plain": [
              "'madam'"
            ],
            "application/vnd.google.colaboratory.intrinsic+json": {
              "type": "string"
            }
          },
          "metadata": {},
          "execution_count": 3
        }
      ]
    },
    {
      "cell_type": "code",
      "source": [
        "dictt={}\n",
        "for i,j in enumerate(a):\n",
        "  dictt[i]=j\n",
        "dictt\n"
      ],
      "metadata": {
        "colab": {
          "base_uri": "https://localhost:8080/"
        },
        "id": "pP-1ujbtAK4E",
        "outputId": "10e3d0e4-3968-4e13-a9fa-28dc354c21ae"
      },
      "execution_count": 4,
      "outputs": [
        {
          "output_type": "execute_result",
          "data": {
            "text/plain": [
              "{0: 'm', 1: 'a', 2: 'd', 3: 'a', 4: 'm'}"
            ]
          },
          "metadata": {},
          "execution_count": 4
        }
      ]
    },
    {
      "cell_type": "code",
      "source": [
        "dictt={}\n",
        "for i in (a):\n",
        "  if i not in dictt:\n",
        "    dictt[i]=1\n",
        "  else:\n",
        "    dictt[i]+=1\n",
        "\n",
        "dictt"
      ],
      "metadata": {
        "colab": {
          "base_uri": "https://localhost:8080/"
        },
        "id": "YUXTRhEAE7iK",
        "outputId": "b304e294-b418-4c81-d796-2e0e8c2107b7"
      },
      "execution_count": 5,
      "outputs": [
        {
          "output_type": "execute_result",
          "data": {
            "text/plain": [
              "{'m': 2, 'a': 2, 'd': 1}"
            ]
          },
          "metadata": {},
          "execution_count": 5
        }
      ]
    },
    {
      "cell_type": "code",
      "source": [
        "dictt"
      ],
      "metadata": {
        "colab": {
          "base_uri": "https://localhost:8080/"
        },
        "id": "Gi4vXU5XDj7P",
        "outputId": "105127f6-2b99-4f42-98b9-4bb5d3b7136b"
      },
      "execution_count": 6,
      "outputs": [
        {
          "output_type": "execute_result",
          "data": {
            "text/plain": [
              "{'m': 2, 'a': 2, 'd': 1}"
            ]
          },
          "metadata": {},
          "execution_count": 6
        }
      ]
    },
    {
      "cell_type": "code",
      "source": [
        "xx={x:a.count(x) for x in a}\n",
        "xx"
      ],
      "metadata": {
        "colab": {
          "base_uri": "https://localhost:8080/"
        },
        "id": "yaBCy2aZ-W6m",
        "outputId": "6ae4745b-e397-4b5b-9604-029bffb3050b"
      },
      "execution_count": 20,
      "outputs": [
        {
          "output_type": "execute_result",
          "data": {
            "text/plain": [
              "{'m': 2, 'a': 2, 'd': 1}"
            ]
          },
          "metadata": {},
          "execution_count": 20
        }
      ]
    },
    {
      "cell_type": "code",
      "source": [
        "a"
      ],
      "metadata": {
        "colab": {
          "base_uri": "https://localhost:8080/",
          "height": 36
        },
        "id": "phchqMwI_e9v",
        "outputId": "9520faec-013f-43fa-f639-23af238c5c66"
      },
      "execution_count": 15,
      "outputs": [
        {
          "output_type": "execute_result",
          "data": {
            "text/plain": [
              "'madam'"
            ],
            "application/vnd.google.colaboratory.intrinsic+json": {
              "type": "string"
            }
          },
          "metadata": {},
          "execution_count": 15
        }
      ]
    },
    {
      "cell_type": "code",
      "source": [
        "dictt={}\n",
        "for i in (a):\n",
        "\n",
        "  dictt[i]=dictt.get(i,0)+1\n",
        "\n",
        "dictt"
      ],
      "metadata": {
        "colab": {
          "base_uri": "https://localhost:8080/"
        },
        "id": "GiebtCuZ-gf-",
        "outputId": "7ca29a0e-349e-456e-eae6-1324237e4f24"
      },
      "execution_count": 26,
      "outputs": [
        {
          "output_type": "execute_result",
          "data": {
            "text/plain": [
              "{'m': 2, 'a': 2, 'd': 1}"
            ]
          },
          "metadata": {},
          "execution_count": 26
        }
      ]
    },
    {
      "cell_type": "code",
      "source": [
        "lt=[]\n",
        "for i in a.split():\n",
        "  j=0\n",
        "  while j<len(a):\n",
        "    a[j]!=i\n",
        "    break\n",
        "    j+=1\n",
        ""
      ],
      "metadata": {
        "id": "e9_dLCZ7AHod"
      },
      "execution_count": 28,
      "outputs": []
    },
    {
      "cell_type": "code",
      "source": [],
      "metadata": {
        "id": "C0AoCCOhD0j4"
      },
      "execution_count": null,
      "outputs": []
    }
  ]
}