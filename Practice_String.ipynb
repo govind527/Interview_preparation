{
  "nbformat": 4,
  "nbformat_minor": 0,
  "metadata": {
    "colab": {
      "provenance": [],
      "authorship_tag": "ABX9TyNPQjt/Ic4/ns7bbXzeZLPN",
      "include_colab_link": true
    },
    "kernelspec": {
      "name": "python3",
      "display_name": "Python 3"
    },
    "language_info": {
      "name": "python"
    }
  },
  "cells": [
    {
      "cell_type": "markdown",
      "metadata": {
        "id": "view-in-github",
        "colab_type": "text"
      },
      "source": [
        "<a href=\"https://colab.research.google.com/github/govind527/Interview_preparation/blob/main/Practice_String.ipynb\" target=\"_parent\"><img src=\"https://colab.research.google.com/assets/colab-badge.svg\" alt=\"Open In Colab\"/></a>"
      ]
    },
    {
      "cell_type": "code",
      "execution_count": 1,
      "metadata": {
        "id": "uICyc6YCYPlz"
      },
      "outputs": [],
      "source": [
        "import torch"
      ]
    },
    {
      "cell_type": "code",
      "source": [
        "s=  'my name is govind'"
      ],
      "metadata": {
        "id": "WbvBlIr8cuj5"
      },
      "execution_count": 24,
      "outputs": []
    },
    {
      "cell_type": "code",
      "source": [
        "print (s[::-1])\n"
      ],
      "metadata": {
        "colab": {
          "base_uri": "https://localhost:8080/"
        },
        "id": "ApHJJQDR1HJ2",
        "outputId": "24a16d2d-9e54-4866-c2f2-4925965efe55"
      },
      "execution_count": 26,
      "outputs": [
        {
          "output_type": "stream",
          "name": "stdout",
          "text": [
            "dnivog si eman ym\n"
          ]
        }
      ]
    },
    {
      "cell_type": "code",
      "source": [],
      "metadata": {
        "id": "AeilH1oe_AJQ"
      },
      "execution_count": null,
      "outputs": []
    },
    {
      "cell_type": "code",
      "source": [
        "listss=[]\n",
        "for i in s.split():\n",
        "  t=[]\n",
        "  for j in list(i):\n",
        "     t.insert(0,j)\n",
        "  listss.append(''.join(t))\n",
        "cc=' '.join(listss)"
      ],
      "metadata": {
        "id": "tueA0qIA1KRw"
      },
      "execution_count": 34,
      "outputs": []
    },
    {
      "cell_type": "code",
      "source": [
        "cc"
      ],
      "metadata": {
        "colab": {
          "base_uri": "https://localhost:8080/",
          "height": 36
        },
        "id": "fkPpUZS31W5B",
        "outputId": "f55d54a1-22b2-4886-822e-2bc8d6e85f08"
      },
      "execution_count": 35,
      "outputs": [
        {
          "output_type": "execute_result",
          "data": {
            "text/plain": [
              "'ym eman si dnivog'"
            ],
            "application/vnd.google.colaboratory.intrinsic+json": {
              "type": "string"
            }
          },
          "metadata": {},
          "execution_count": 35
        }
      ]
    },
    {
      "cell_type": "code",
      "source": [
        "def functiod(s):\n",
        "\n",
        "  return ' '.join([word[::-1] for  word in s.split()])\n"
      ],
      "metadata": {
        "id": "m382bSVb_sMD"
      },
      "execution_count": 40,
      "outputs": []
    },
    {
      "cell_type": "code",
      "source": [
        "functiod('my name is shakitman')"
      ],
      "metadata": {
        "colab": {
          "base_uri": "https://localhost:8080/",
          "height": 36
        },
        "id": "ifbNXdQrEljS",
        "outputId": "40360e7d-6f1c-45be-848b-c0c5e7bb9dbe"
      },
      "execution_count": 42,
      "outputs": [
        {
          "output_type": "execute_result",
          "data": {
            "text/plain": [
              "'ym eman si namtikahs'"
            ],
            "application/vnd.google.colaboratory.intrinsic+json": {
              "type": "string"
            }
          },
          "metadata": {},
          "execution_count": 42
        }
      ]
    },
    {
      "cell_type": "code",
      "source": [
        "leng=len(s)\n",
        "i=0\n",
        "lst=[]\n",
        "while i<leng:\n",
        "  lst.append(s[i])\n",
        "\n",
        "  i+=1\n",
        "\n",
        "type(lst\n",
        "     )"
      ],
      "metadata": {
        "colab": {
          "base_uri": "https://localhost:8080/"
        },
        "id": "8Lhpk9-oFGNq",
        "outputId": "a25fc3a8-924d-40f0-af0b-5c234c2a7253"
      },
      "execution_count": 53,
      "outputs": [
        {
          "output_type": "execute_result",
          "data": {
            "text/plain": [
              "list"
            ]
          },
          "metadata": {},
          "execution_count": 53
        }
      ]
    },
    {
      "cell_type": "code",
      "source": [
        "f_blank=[]\n",
        "leng=len(s)\n",
        "i=0\n",
        "lst=[]\n",
        "while i<leng:\n",
        "  if i==' ':\n",
        "    break\n",
        "  lst.append(s[i])\n",
        "  i+=1\n",
        "\n",
        "lst"
      ],
      "metadata": {
        "id": "nf0P1VHpF3Qn"
      },
      "execution_count": null,
      "outputs": []
    },
    {
      "cell_type": "code",
      "source": [
        "leng=len(s.split())\n",
        "i=0\n",
        "lst=[]\n",
        "while i<leng:\n",
        "    text=s.split()[i]\n",
        "    l_blank=[]\n",
        "    y=len(text)\n",
        "    j=0\n",
        "    while j<y:\n",
        "        l_blank.insert(0,text[j])\n",
        "        j+=1\n",
        "    lst.append(''.join(l_blank))\n",
        "    i+=1\n",
        "final_text=' '.join(lst)\n",
        "print(final_text)"
      ],
      "metadata": {
        "colab": {
          "base_uri": "https://localhost:8080/"
        },
        "id": "aOolEshSK-ZK",
        "outputId": "9388b178-aecd-4240-ab24-4e604d2174e1"
      },
      "execution_count": 55,
      "outputs": [
        {
          "output_type": "stream",
          "name": "stdout",
          "text": [
            "ym eman si dnivog\n"
          ]
        }
      ]
    },
    {
      "cell_type": "code",
      "source": [
        "le='Learning Python Is Very Easy'"
      ],
      "metadata": {
        "id": "-yUDipqTLDp-"
      },
      "execution_count": 56,
      "outputs": []
    },
    {
      "cell_type": "code",
      "source": [
        "lst=[]\n",
        "for i in le.split():\n",
        "  lst.insert(0,i)\n",
        "' '.join(lst)\n"
      ],
      "metadata": {
        "colab": {
          "base_uri": "https://localhost:8080/",
          "height": 36
        },
        "id": "QasoZLxWM2n7",
        "outputId": "b67a2a5d-f9af-4df7-8429-412af29f1be1"
      },
      "execution_count": 57,
      "outputs": [
        {
          "output_type": "execute_result",
          "data": {
            "text/plain": [
              "'Easy Very Is Python Learning'"
            ],
            "application/vnd.google.colaboratory.intrinsic+json": {
              "type": "string"
            }
          },
          "metadata": {},
          "execution_count": 57
        }
      ]
    },
    {
      "cell_type": "code",
      "source": [
        "nuu='one two three four five six'\n"
      ],
      "metadata": {
        "id": "kNU7jHEUNFy4"
      },
      "execution_count": 58,
      "outputs": []
    },
    {
      "cell_type": "code",
      "source": [
        "lsst=[]"
      ],
      "metadata": {
        "id": "NNjTDdDFNjo_"
      },
      "execution_count": 59,
      "outputs": []
    },
    {
      "cell_type": "code",
      "source": [
        "listss=[]\n",
        "cnt=0\n",
        "for i in nuu.split():\n",
        "  if cnt%2 == 1:\n",
        "    t=[]\n",
        "    for j in list(i):\n",
        "      t.insert(0,j)\n",
        "    listss.append(''.join(t))\n",
        "  else:\n",
        "    listss.append(i)\n",
        "  cnt+=1\n",
        "\n",
        "' '.join(listss)"
      ],
      "metadata": {
        "colab": {
          "base_uri": "https://localhost:8080/",
          "height": 36
        },
        "id": "jplMVPiWNk6M",
        "outputId": "1f20fc55-e16c-4976-9a88-b0a39ec9e531"
      },
      "execution_count": 68,
      "outputs": [
        {
          "output_type": "execute_result",
          "data": {
            "text/plain": [
              "'one owt three ruof five xis'"
            ],
            "application/vnd.google.colaboratory.intrinsic+json": {
              "type": "string"
            }
          },
          "metadata": {},
          "execution_count": 68
        }
      ]
    },
    {
      "cell_type": "code",
      "source": [
        "listss=[]\n",
        "for i in s.split():\n",
        "  t=[]\n",
        "  for j in list(i):\n",
        "     t.insert(0,j)\n",
        "  listss.append(''.join(t))\n",
        "cc=' '.join(listss)"
      ],
      "metadata": {
        "id": "HgVMcgBeNwzI"
      },
      "execution_count": null,
      "outputs": []
    },
    {
      "cell_type": "code",
      "source": [
        "s1='RAVI'\n",
        "s2='TEJA'"
      ],
      "metadata": {
        "id": "RTOi1uOyTARr"
      },
      "execution_count": 76,
      "outputs": []
    },
    {
      "cell_type": "code",
      "source": [
        "a='madam'"
      ],
      "metadata": {
        "id": "a26EF4X6TBGF"
      },
      "execution_count": 1,
      "outputs": []
    },
    {
      "cell_type": "code",
      "source": [
        "r=reversed(a.strip())\n",
        "u=''.join(r)\n",
        "a==u\n",
        "u"
      ],
      "metadata": {
        "colab": {
          "base_uri": "https://localhost:8080/",
          "height": 36
        },
        "id": "euMwBRodTc4Y",
        "outputId": "3c3c6104-0b6d-4b39-e7e6-f8408232bd08"
      },
      "execution_count": 3,
      "outputs": [
        {
          "output_type": "execute_result",
          "data": {
            "text/plain": [
              "'madam'"
            ],
            "application/vnd.google.colaboratory.intrinsic+json": {
              "type": "string"
            }
          },
          "metadata": {},
          "execution_count": 3
        }
      ]
    },
    {
      "cell_type": "code",
      "source": [
        "dictt={}\n",
        "for i,j in enumerate(a):\n",
        "  dictt[i]=j\n",
        "dictt\n"
      ],
      "metadata": {
        "colab": {
          "base_uri": "https://localhost:8080/"
        },
        "id": "pP-1ujbtAK4E",
        "outputId": "10e3d0e4-3968-4e13-a9fa-28dc354c21ae"
      },
      "execution_count": 4,
      "outputs": [
        {
          "output_type": "execute_result",
          "data": {
            "text/plain": [
              "{0: 'm', 1: 'a', 2: 'd', 3: 'a', 4: 'm'}"
            ]
          },
          "metadata": {},
          "execution_count": 4
        }
      ]
    },
    {
      "cell_type": "code",
      "source": [
        "dictt={}\n",
        "for i in (a):\n",
        "  if i not in dictt:\n",
        "    dictt[i]=1\n",
        "  else:\n",
        "    dictt[i]+=1\n",
        "\n",
        "dictt"
      ],
      "metadata": {
        "colab": {
          "base_uri": "https://localhost:8080/"
        },
        "id": "YUXTRhEAE7iK",
        "outputId": "b304e294-b418-4c81-d796-2e0e8c2107b7"
      },
      "execution_count": 5,
      "outputs": [
        {
          "output_type": "execute_result",
          "data": {
            "text/plain": [
              "{'m': 2, 'a': 2, 'd': 1}"
            ]
          },
          "metadata": {},
          "execution_count": 5
        }
      ]
    },
    {
      "cell_type": "code",
      "source": [
        "dictt"
      ],
      "metadata": {
        "colab": {
          "base_uri": "https://localhost:8080/"
        },
        "id": "Gi4vXU5XDj7P",
        "outputId": "105127f6-2b99-4f42-98b9-4bb5d3b7136b"
      },
      "execution_count": 6,
      "outputs": [
        {
          "output_type": "execute_result",
          "data": {
            "text/plain": [
              "{'m': 2, 'a': 2, 'd': 1}"
            ]
          },
          "metadata": {},
          "execution_count": 6
        }
      ]
    },
    {
      "cell_type": "code",
      "source": [
        "xx={x:a.count(x) for x in a}\n",
        "xx"
      ],
      "metadata": {
        "colab": {
          "base_uri": "https://localhost:8080/"
        },
        "id": "yaBCy2aZ-W6m",
        "outputId": "6ae4745b-e397-4b5b-9604-029bffb3050b"
      },
      "execution_count": 20,
      "outputs": [
        {
          "output_type": "execute_result",
          "data": {
            "text/plain": [
              "{'m': 2, 'a': 2, 'd': 1}"
            ]
          },
          "metadata": {},
          "execution_count": 20
        }
      ]
    },
    {
      "cell_type": "code",
      "source": [
        "a"
      ],
      "metadata": {
        "colab": {
          "base_uri": "https://localhost:8080/",
          "height": 36
        },
        "id": "phchqMwI_e9v",
        "outputId": "9520faec-013f-43fa-f639-23af238c5c66"
      },
      "execution_count": 15,
      "outputs": [
        {
          "output_type": "execute_result",
          "data": {
            "text/plain": [
              "'madam'"
            ],
            "application/vnd.google.colaboratory.intrinsic+json": {
              "type": "string"
            }
          },
          "metadata": {},
          "execution_count": 15
        }
      ]
    },
    {
      "cell_type": "code",
      "source": [
        "dictt={}\n",
        "for i in (a):\n",
        "\n",
        "  dictt[i]=dictt.get(i,0)+1\n",
        "\n",
        "dictt"
      ],
      "metadata": {
        "colab": {
          "base_uri": "https://localhost:8080/"
        },
        "id": "GiebtCuZ-gf-",
        "outputId": "7ca29a0e-349e-456e-eae6-1324237e4f24"
      },
      "execution_count": 26,
      "outputs": [
        {
          "output_type": "execute_result",
          "data": {
            "text/plain": [
              "{'m': 2, 'a': 2, 'd': 1}"
            ]
          },
          "metadata": {},
          "execution_count": 26
        }
      ]
    },
    {
      "cell_type": "code",
      "source": [
        "dicttt={}\n",
        "\n",
        "for i in a:\n",
        "  if i not in dicttt:\n",
        "    dicttt[i]=1\n",
        "  else:\n",
        "    dicttt[i]+=1\n",
        "\n",
        "for j in range(len(a)):\n",
        "  if dicttt[a[j]]==1:\n",
        "     print(j)\n",
        "  else: print(-1)\n",
        "\n",
        "\n",
        ""
      ],
      "metadata": {
        "colab": {
          "base_uri": "https://localhost:8080/"
        },
        "id": "e9_dLCZ7AHod",
        "outputId": "43158674-bb06-4423-c3cb-e21b7c9ae375"
      },
      "execution_count": 12,
      "outputs": [
        {
          "output_type": "stream",
          "name": "stdout",
          "text": [
            "-1\n",
            "-1\n",
            "2\n",
            "-1\n",
            "-1\n"
          ]
        }
      ]
    },
    {
      "cell_type": "code",
      "source": [
        "def upper_case(strr):\n",
        "  return_strr=''\n",
        "\n",
        "  for char in strr:\n",
        "    if char>='a' and char<='z':\n",
        "      return_strr+=chr(ord(char)-32)\n",
        "    else:\n",
        "      return_strr+=char\n",
        "  return return_strr\n"
      ],
      "metadata": {
        "id": "C0AoCCOhD0j4"
      },
      "execution_count": 8,
      "outputs": []
    },
    {
      "cell_type": "code",
      "source": [
        "upper_case(a)"
      ],
      "metadata": {
        "colab": {
          "base_uri": "https://localhost:8080/",
          "height": 36
        },
        "id": "RMeXaB9boPo0",
        "outputId": "942cf634-6387-4421-fa61-3e54fd1fc165"
      },
      "execution_count": 9,
      "outputs": [
        {
          "output_type": "execute_result",
          "data": {
            "text/plain": [
              "'MADAM'"
            ],
            "application/vnd.google.colaboratory.intrinsic+json": {
              "type": "string"
            }
          },
          "metadata": {},
          "execution_count": 9
        }
      ]
    },
    {
      "cell_type": "code",
      "source": [
        "def lower_case(strr):\n",
        "  return_strr=''\n",
        "\n",
        "  for char in strr:\n",
        "    if char>='A' and char<='Z':\n",
        "      return_strr+=chr(ord(char)+32)\n",
        "    else:\n",
        "      return_strr+=char\n",
        "  return return_strr"
      ],
      "metadata": {
        "id": "8XRdLH_1oRl9"
      },
      "execution_count": 10,
      "outputs": []
    },
    {
      "cell_type": "code",
      "source": [
        "lower_case(\"ADSDADD\")"
      ],
      "metadata": {
        "colab": {
          "base_uri": "https://localhost:8080/",
          "height": 36
        },
        "id": "lfRcD1jHoza3",
        "outputId": "31999491-a6ce-46f5-fc92-63a10b8d7a46"
      },
      "execution_count": 11,
      "outputs": [
        {
          "output_type": "execute_result",
          "data": {
            "text/plain": [
              "'adsdadd'"
            ],
            "application/vnd.google.colaboratory.intrinsic+json": {
              "type": "string"
            }
          },
          "metadata": {},
          "execution_count": 11
        }
      ]
    },
    {
      "cell_type": "code",
      "source": [
        "ord('A')"
      ],
      "metadata": {
        "colab": {
          "base_uri": "https://localhost:8080/"
        },
        "id": "j2LSYa-No11j",
        "outputId": "d9eb15e2-29fc-4ede-92e2-5559e93f3633"
      },
      "execution_count": 4,
      "outputs": [
        {
          "output_type": "execute_result",
          "data": {
            "text/plain": [
              "65"
            ]
          },
          "metadata": {},
          "execution_count": 4
        }
      ]
    },
    {
      "cell_type": "code",
      "source": [
        "aa='B4A1D3'"
      ],
      "metadata": {
        "id": "Sja2okmKBbxs"
      },
      "execution_count": 5,
      "outputs": []
    },
    {
      "cell_type": "code",
      "source": [
        "chr_lst=''\n",
        "num_lst=''\n",
        "for char in list(aa):\n",
        "  if ord(char)>=65:\n",
        "    chr_lst+=char\n",
        "    c=''.join(sorted(chr_lst))\n",
        "  else:\n",
        "    num_lst+=char\n",
        "    d=''.join(sorted(num_lst))\n",
        "\n",
        "print(c+d)"
      ],
      "metadata": {
        "colab": {
          "base_uri": "https://localhost:8080/"
        },
        "id": "Ki06WyHTBlv5",
        "outputId": "cecf8dca-b30c-49ed-fd74-93de6b7c7c33"
      },
      "execution_count": 16,
      "outputs": [
        {
          "output_type": "stream",
          "name": "stdout",
          "text": [
            "ABD134\n"
          ]
        }
      ]
    },
    {
      "cell_type": "code",
      "source": [
        "sorted((\"this is msy namem\").split(),key =len)"
      ],
      "metadata": {
        "colab": {
          "base_uri": "https://localhost:8080/"
        },
        "id": "4_sI3H5kCGK7",
        "outputId": "184d4f44-3a37-4a5c-b96c-da904b4da755"
      },
      "execution_count": 31,
      "outputs": [
        {
          "output_type": "execute_result",
          "data": {
            "text/plain": [
              "['is', 'msy', 'this', 'namem']"
            ]
          },
          "metadata": {},
          "execution_count": 31
        }
      ]
    },
    {
      "cell_type": "code",
      "source": [
        "chr_lst=''\n",
        "num_lst=''\n",
        "for char in list(aa):\n",
        "  if char.isalpha():\n",
        "    chr_lst+=char\n",
        "    c=''.join(sorted(chr_lst))\n",
        "  else:\n",
        "    num_lst+=char\n",
        "    d=''.join(sorted(num_lst))\n",
        "\n",
        "print(c+d)"
      ],
      "metadata": {
        "colab": {
          "base_uri": "https://localhost:8080/"
        },
        "id": "J09sw-KLEXJ6",
        "outputId": "cb372a3a-340c-49df-a0d5-72d891253a0b"
      },
      "execution_count": 18,
      "outputs": [
        {
          "output_type": "stream",
          "name": "stdout",
          "text": [
            "ABD134\n"
          ]
        }
      ]
    },
    {
      "cell_type": "code",
      "source": [
        "strr='a3z2b4'"
      ],
      "metadata": {
        "id": "AwHZKUbTEwm2"
      },
      "execution_count": 32,
      "outputs": []
    },
    {
      "cell_type": "code",
      "source": [
        "strringg=''\n",
        "for chr in strr:\n",
        "  if chr.isalpha():\n",
        "    alpha=chr\n",
        "  else:\n",
        "    numm=int(chr)\n",
        "    strringg+=alpha*numm\n",
        "''.join(sorted(strringg))\n"
      ],
      "metadata": {
        "colab": {
          "base_uri": "https://localhost:8080/",
          "height": 36
        },
        "id": "M1I1oi8FYbn0",
        "outputId": "294ac101-885b-4062-dfa6-2f2bc2043e58"
      },
      "execution_count": 35,
      "outputs": [
        {
          "output_type": "execute_result",
          "data": {
            "text/plain": [
              "'aaabbbbzz'"
            ],
            "application/vnd.google.colaboratory.intrinsic+json": {
              "type": "string"
            }
          },
          "metadata": {},
          "execution_count": 35
        }
      ]
    },
    {
      "cell_type": "code",
      "source": [
        "inn='ABAABBCAEIIOOO'"
      ],
      "metadata": {
        "id": "pCF6Kb1UY2TD"
      },
      "execution_count": 56,
      "outputs": []
    },
    {
      "cell_type": "code",
      "source": [
        "dictt={}\n",
        "for char in inn:\n",
        "\n",
        "  vowel='aeiouAIEOU'\n",
        "  if char in (vowel):\n",
        "    # print(char) # This line is not needed for counting\n",
        "    dictt[char] = dictt.get(char, 0) + 1\n",
        "\n",
        "\n",
        "sttrr=''\n",
        "for value,key in dictt.items():\n",
        "  sttrr+=(str(value)+str(key))\n",
        "  #print(value)\n",
        "sttrr"
      ],
      "metadata": {
        "colab": {
          "base_uri": "https://localhost:8080/",
          "height": 36
        },
        "id": "-Cfjq4aaZfy1",
        "outputId": "06798c59-7769-47cc-80ce-30d016655e92"
      },
      "execution_count": 58,
      "outputs": [
        {
          "output_type": "execute_result",
          "data": {
            "text/plain": [
              "'A4E1I2O3'"
            ],
            "application/vnd.google.colaboratory.intrinsic+json": {
              "type": "string"
            }
          },
          "metadata": {},
          "execution_count": 58
        }
      ]
    },
    {
      "cell_type": "code",
      "source": [
        "sorted(dictt)"
      ],
      "metadata": {
        "colab": {
          "base_uri": "https://localhost:8080/"
        },
        "id": "BHLvDbMJoFri",
        "outputId": "ddc3fc29-7960-4770-8a33-d276b5d302e4"
      },
      "execution_count": 48,
      "outputs": [
        {
          "output_type": "execute_result",
          "data": {
            "text/plain": [
              "['A', 'B', 'C']"
            ]
          },
          "metadata": {},
          "execution_count": 48
        }
      ]
    },
    {
      "cell_type": "code",
      "source": [
        "easy='a4k3b2'"
      ],
      "metadata": {
        "id": "oY3OdqorZu0q"
      },
      "execution_count": 9,
      "outputs": []
    },
    {
      "cell_type": "code",
      "source": [
        "new=''\n",
        "for char in easy:\n",
        "  if char.isalpha():\n",
        "    b=ord(char)\n",
        "    new+=char\n",
        "  else:\n",
        "    new+=chr(b+int(char))\n",
        "\n",
        "new\n"
      ],
      "metadata": {
        "colab": {
          "base_uri": "https://localhost:8080/",
          "height": 36
        },
        "id": "hwOy5IFbaxjD",
        "outputId": "e5556fe6-f4a1-4b58-aa6a-fda77f6c219d"
      },
      "execution_count": 10,
      "outputs": [
        {
          "output_type": "execute_result",
          "data": {
            "text/plain": [
              "'aeknbd'"
            ],
            "application/vnd.google.colaboratory.intrinsic+json": {
              "type": "string"
            }
          },
          "metadata": {},
          "execution_count": 10
        }
      ]
    },
    {
      "cell_type": "code",
      "source": [
        "dup='AZZZBCDABBCDABBBBCCCCDDDDEEEEEF'"
      ],
      "metadata": {
        "id": "20Qy4Vjpd4tM"
      },
      "execution_count": 11,
      "outputs": []
    },
    {
      "cell_type": "code",
      "source": [
        "atr=''\n",
        "for char in dup:\n",
        "  if char in atr:\n",
        "    continue\n",
        "  else:\n",
        "    atr+=char\n",
        "print(atr)"
      ],
      "metadata": {
        "colab": {
          "base_uri": "https://localhost:8080/"
        },
        "id": "aryJCurQft06",
        "outputId": "3fe174fa-a3b4-4698-de13-4db1cc92bf0e"
      },
      "execution_count": 13,
      "outputs": [
        {
          "output_type": "stream",
          "name": "stdout",
          "text": [
            "AZBCDEF\n"
          ]
        }
      ]
    },
    {
      "cell_type": "code",
      "source": [
        "set(dup)"
      ],
      "metadata": {
        "colab": {
          "base_uri": "https://localhost:8080/"
        },
        "id": "dxGFOLr2jIyw",
        "outputId": "e85087a0-cd5f-4854-b3ab-e22afd55dc02"
      },
      "execution_count": 17,
      "outputs": [
        {
          "output_type": "execute_result",
          "data": {
            "text/plain": [
              "{'A', 'B', 'C', 'D', 'E', 'F', 'Z'}"
            ]
          },
          "metadata": {},
          "execution_count": 17
        }
      ]
    },
    {
      "cell_type": "code",
      "source": [
        "''.join(set(dup))"
      ],
      "metadata": {
        "colab": {
          "base_uri": "https://localhost:8080/",
          "height": 36
        },
        "id": "CSzOvb6IiiwA",
        "outputId": "4f8c4e41-3170-402c-9aee-7c02070590a1"
      },
      "execution_count": 18,
      "outputs": [
        {
          "output_type": "execute_result",
          "data": {
            "text/plain": [
              "'ECDZBFA'"
            ],
            "application/vnd.google.colaboratory.intrinsic+json": {
              "type": "string"
            }
          },
          "metadata": {},
          "execution_count": 18
        }
      ]
    },
    {
      "cell_type": "code",
      "source": [
        "l=[]\n",
        "for i in dup:\n",
        "  if i not in l:\n",
        "    l.append(i)\n",
        "''.join(sorted(l,reverse=False))"
      ],
      "metadata": {
        "colab": {
          "base_uri": "https://localhost:8080/",
          "height": 36
        },
        "id": "Hc9ZPLRxi3h6",
        "outputId": "494d061d-0e6a-4386-e75f-c294e8129c91"
      },
      "execution_count": 35,
      "outputs": [
        {
          "output_type": "execute_result",
          "data": {
            "text/plain": [
              "'ABCDEFZ'"
            ],
            "application/vnd.google.colaboratory.intrinsic+json": {
              "type": "string"
            }
          },
          "metadata": {},
          "execution_count": 35
        }
      ]
    },
    {
      "cell_type": "code",
      "source": [
        "l.sort()"
      ],
      "metadata": {
        "id": "eEf5YbOXkrF3"
      },
      "execution_count": 30,
      "outputs": []
    },
    {
      "cell_type": "code",
      "source": [
        "''.join(sorted(l,reverse=False))"
      ],
      "metadata": {
        "colab": {
          "base_uri": "https://localhost:8080/",
          "height": 36
        },
        "id": "nXEFLy7LkMC7",
        "outputId": "2461f667-3002-4c07-d970-99ccfcaa8372"
      },
      "execution_count": 34,
      "outputs": [
        {
          "output_type": "execute_result",
          "data": {
            "text/plain": [
              "'ABCDEFZ'"
            ],
            "application/vnd.google.colaboratory.intrinsic+json": {
              "type": "string"
            }
          },
          "metadata": {},
          "execution_count": 34
        }
      ]
    },
    {
      "cell_type": "code",
      "source": [
        "s='ABCDABXXXBCDABBBBCCCZZZZCDDDDEEEEEF'\n",
        "l=[]\n",
        "for ch in s:\n",
        "  if ch not in l:\n",
        "\n",
        "    l.append(ch)\n",
        "for ch in sorted(l):\n",
        "  print('{} occurrs {} times'.format(ch,s.count(ch)))"
      ],
      "metadata": {
        "colab": {
          "base_uri": "https://localhost:8080/"
        },
        "id": "YFRMCnqRk4i7",
        "outputId": "bff7729e-cec4-4aa8-8694-41612d611329"
      },
      "execution_count": 36,
      "outputs": [
        {
          "output_type": "stream",
          "name": "stdout",
          "text": [
            "A occurrs 3 times\n",
            "B occurrs 7 times\n",
            "C occurrs 6 times\n",
            "D occurrs 6 times\n",
            "E occurrs 5 times\n",
            "F occurrs 1 times\n",
            "X occurrs 3 times\n",
            "Z occurrs 4 times\n"
          ]
        }
      ]
    },
    {
      "cell_type": "code",
      "source": [
        "dictt={}\n",
        "for char in s:\n",
        "  if char not in (dictt):\n",
        "    dictt[char]=1\n",
        "  else:\n",
        "    dictt[char]+=1\n",
        "for key, value in dictt.items():\n",
        "  print(key + ' occurrs ' + str(value)+ ' times')"
      ],
      "metadata": {
        "colab": {
          "base_uri": "https://localhost:8080/"
        },
        "id": "K-wjG6YdlubJ",
        "outputId": "0ba3eecc-dfa8-4c92-adf4-4c7b18953c38"
      },
      "execution_count": 41,
      "outputs": [
        {
          "output_type": "stream",
          "name": "stdout",
          "text": [
            "A occurrs 3 times\n",
            "B occurrs 7 times\n",
            "C occurrs 6 times\n",
            "D occurrs 6 times\n",
            "X occurrs 3 times\n",
            "Z occurrs 4 times\n",
            "E occurrs 5 times\n",
            "F occurrs 1 times\n"
          ]
        }
      ]
    },
    {
      "cell_type": "code",
      "source": [],
      "metadata": {
        "id": "v0rzcZQQl84e"
      },
      "execution_count": null,
      "outputs": []
    }
  ]
}